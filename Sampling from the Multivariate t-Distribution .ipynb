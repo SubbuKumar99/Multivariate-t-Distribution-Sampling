{
 "cells": [
  {
   "cell_type": "code",
   "execution_count": 2,
   "metadata": {},
   "outputs": [
    {
     "data": {
      "image/png": "[encoded data removed]",
      "text/plain": [
       "<Figure size 432x288 with 1 Axes>"
      ]
     },
     "metadata": {
      "needs_background": "light"
     },
     "output_type": "display_data"
    }
   ],
   "source": [
    "import math\n",
    "import random\n",
    "import numpy as np\n",
    "from scipy.stats import t\n",
    "from scipy.integrate import quad\n",
    "import matplotlib.pyplot as plt\n",
    "\n",
    "def multivariate_t_dist_pdf(x,cov,v):\n",
    "    cov_matrix = np.array(cov, dtype='float')\n",
    "    x_matrix = np.array(x, dtype='float')\n",
    "    \n",
    "    d = len(x_matrix)\n",
    "    \n",
    "    first_term = 1 / math.sqrt(np.linalg.det(cov_matrix))\n",
    "    second_term = 1 / math.sqrt((v*math.pi)**d)\n",
    "    third_term = math.gamma((v+d)/2) / math.gamma(v/2)\n",
    "    fourth_term = (1+np.matmul(np.matmul(x_matrix,np.linalg.inv(cov_matrix)),(x_matrix).transpose())/v)**(-(v+d)/2)\n",
    "        \n",
    "    return(first_term*second_term*third_term*fourth_term)\n",
    "\n",
    "def multivariate_t_dist_cdf(x1,x2,c,df):\n",
    "    def quadFunc(x):\n",
    "        return multivariate_t_dist_pdf([x1,x],c,df)\n",
    "    res, error = quad(quadFunc,-4,x2)\n",
    "    return res\n",
    "\n",
    "def mvt_t_cdf_inverse(x_1,a,co,dof_f):\n",
    "    x_2 = np.linspace(-4,4,80)\n",
    "    new = -4\n",
    "    small = 1\n",
    "    for i in x_2:\n",
    "        dif = a - multivariate_t_dist_cdf(x_1,i,co,dof_f)\n",
    "        if abs(dif) < small:\n",
    "            small = abs(dif) \n",
    "            new = i     \n",
    "    return new\n",
    "    \n",
    "def mvt_random_sample(n,covariance,d_f):\n",
    "    x_values = []\n",
    "    y_values = []\n",
    "    for i in range(n):\n",
    "        r1  = random.uniform(0,1)\n",
    "        x_var_1 = t.ppf(r1,df=d_f)\n",
    "        a =  multivariate_t_dist_cdf(x_var_1,4,covariance,d_f)\n",
    "    \n",
    "        r2 = random.uniform(0,a)\n",
    "        x_var_2 = mvt_t_cdf_inverse(x_var_1,r2,covariance,d_f)\n",
    "    \n",
    "        x_values.append(x_var_1)\n",
    "        y_values.append(x_var_2)\n",
    "    \n",
    "    plt.scatter(x_values,y_values);\n",
    "\n",
    "mvt_random_sample(500,[[2,1.99],[1.99,2]],4)"
   ]
  },
  {
   "cell_type": "code",
   "execution_count": null,
   "metadata": {},
   "outputs": [],
   "source": []
  }
 ],
 "metadata": {
  "kernelspec": {
   "display_name": "Python 3",
   "language": "python",
   "name": "python3"
  },
  "language_info": {
   "codemirror_mode": {
    "name": "ipython",
    "version": 3
   },
   "file_extension": ".py",
   "mimetype": "text/x-python",
   "name": "python",
   "nbconvert_exporter": "python",
   "pygments_lexer": "ipython3",
   "version": "3.7.1"
  }
 },
 "nbformat": 4,
 "nbformat_minor": 2
}
